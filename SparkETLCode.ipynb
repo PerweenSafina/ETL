{
 "cells": [
  {
   "cell_type": "markdown",
   "metadata": {},
   "source": [
    "### Importing library"
   ]
  },
  {
   "cell_type": "code",
   "execution_count": 1,
   "metadata": {},
   "outputs": [],
   "source": [
    "import os\n",
    "import sys\n",
    "import pandas as pd\n",
    "os.environ[\"PYSPARK_PYTHON\"] = \"/opt/cloudera/parcels/Anaconda/bin/python\"\n",
    "os.environ[\"JAVA_HOME\"] = \"/usr/java/jdk1.8.0_161/jre\"\n",
    "os.environ[\"SPARK_HOME\"] = \"/opt/cloudera/parcels/SPARK2-2.3.0.cloudera2-1.cdh5.13.3.p0.316101/lib/spark2/\"\n",
    "os.environ[\"PYLIB\"] = os.environ[\"SPARK_HOME\"] + \"/python/lib\"\n",
    "sys.path.insert(0, os.environ[\"PYLIB\"] +\"/py4j-0.10.6-src.zip\")\n",
    "sys.path.insert(0, os.environ[\"PYLIB\"] +\"/pyspark.zip\")\n"
   ]
  },
  {
   "cell_type": "code",
   "execution_count": 2,
   "metadata": {},
   "outputs": [],
   "source": [
    "from pyspark.sql.functions import *\n",
    "from pyspark.sql.functions import lpad\n",
    "from pyspark.sql.window import Window"
   ]
  },
  {
   "cell_type": "markdown",
   "metadata": {},
   "source": [
    "### Checking Spark Setup"
   ]
  },
  {
   "cell_type": "code",
   "execution_count": 4,
   "metadata": {},
   "outputs": [],
   "source": [
    "from pyspark.sql import SparkSession\n",
    "spark = SparkSession.builder.appName('ETL').master(\"local\").getOrCreate()\n",
    "sc = spark.sparkContext"
   ]
  },
  {
   "cell_type": "markdown",
   "metadata": {},
   "source": [
    "#### Loading data from HDFS"
   ]
  },
  {
   "cell_type": "code",
   "execution_count": 5,
   "metadata": {},
   "outputs": [],
   "source": [
    "df = spark.read.load(\"/user/root/etl_project/part-m-00000\", format=\"csv\", sep=\",\", inferSchema=\"true\", header=\"false\")"
   ]
  },
  {
   "cell_type": "code",
   "execution_count": 6,
   "metadata": {},
   "outputs": [
    {
     "name": "stdout",
     "output_type": "stream",
     "text": [
      "root\n",
      " |-- _c0: integer (nullable = true)\n",
      " |-- _c1: string (nullable = true)\n",
      " |-- _c2: integer (nullable = true)\n",
      " |-- _c3: string (nullable = true)\n",
      " |-- _c4: integer (nullable = true)\n",
      " |-- _c5: string (nullable = true)\n",
      " |-- _c6: integer (nullable = true)\n",
      " |-- _c7: string (nullable = true)\n",
      " |-- _c8: string (nullable = true)\n",
      " |-- _c9: string (nullable = true)\n",
      " |-- _c10: integer (nullable = true)\n",
      " |-- _c11: integer (nullable = true)\n",
      " |-- _c12: double (nullable = true)\n",
      " |-- _c13: double (nullable = true)\n",
      " |-- _c14: string (nullable = true)\n",
      " |-- _c15: string (nullable = true)\n",
      " |-- _c16: integer (nullable = true)\n",
      " |-- _c17: string (nullable = true)\n",
      " |-- _c18: integer (nullable = true)\n",
      " |-- _c19: string (nullable = true)\n",
      " |-- _c20: double (nullable = true)\n",
      " |-- _c21: double (nullable = true)\n",
      " |-- _c22: integer (nullable = true)\n",
      " |-- _c23: string (nullable = true)\n",
      " |-- _c24: double (nullable = true)\n",
      " |-- _c25: integer (nullable = true)\n",
      " |-- _c26: integer (nullable = true)\n",
      " |-- _c27: integer (nullable = true)\n",
      " |-- _c28: integer (nullable = true)\n",
      " |-- _c29: double (nullable = true)\n",
      " |-- _c30: integer (nullable = true)\n",
      " |-- _c31: integer (nullable = true)\n",
      " |-- _c32: string (nullable = true)\n",
      " |-- _c33: string (nullable = true)\n",
      "\n"
     ]
    }
   ],
   "source": [
    "df.printSchema()"
   ]
  },
  {
   "cell_type": "code",
   "execution_count": 7,
   "metadata": {},
   "outputs": [
    {
     "name": "stdout",
     "output_type": "stream",
     "text": [
      "+----+-------+---+------+---+--------+---+---------------+------------------+--------------------+----+----+------+------+----+--------------------+----+----------+----+----+------+------+-------+--------------+------+----+----+----+----+-----+----+----+-------+--------------------+\n",
      "| _c0|    _c1|_c2|   _c3|_c4|     _c5|_c6|            _c7|               _c8|                 _c9|_c10|_c11|  _c12|  _c13|_c14|                _c15|_c16|      _c17|_c18|_c19|  _c20|  _c21|   _c22|          _c23|  _c24|_c25|_c26|_c27|_c28| _c29|_c30|_c31|   _c32|                _c33|\n",
      "+----+-------+---+------+---+--------+---+---------------+------------------+--------------------+----+----+------+------+----+--------------------+----+----------+----+----+------+------+-------+--------------+------+----+----+----+----+-----+----+----+-------+--------------------+\n",
      "|2017|January|  1|Sunday|  0|  Active|  1|            NCR|        NÃƒÂ¦stved|         Farimagsvej|   8|4700|55.233|11.763| DKK|          MasterCard|5643|Withdrawal|null|null| 55.23|11.761|2616038|      Naestved|281.15|1014|  87|   7| 260|0.215|  92| 500|   Rain|          light rain|\n",
      "|2017|January|  1|Sunday|  0|Inactive|  2|            NCR|          Vejgaard|          Hadsundvej|  20|9000|57.043|  9.95| DKK|          MasterCard|1764|Withdrawal|null|null|57.048| 9.935|2616235|NÃƒÂ¸rresundby|280.64|1020|  93|   9| 250| 0.59|  92| 500|   Rain|          light rain|\n",
      "|2017|January|  1|Sunday|  0|Inactive|  2|            NCR|          Vejgaard|          Hadsundvej|  20|9000|57.043|  9.95| DKK|                VISA|1891|Withdrawal|null|null|57.048| 9.935|2616235|NÃƒÂ¸rresundby|280.64|1020|  93|   9| 250| 0.59|  92| 500|   Rain|          light rain|\n",
      "|2017|January|  1|Sunday|  0|Inactive|  3|            NCR|             Ikast| RÃƒÂ¥dhusstrÃƒÂ¦det|  12|7430|56.139| 9.154| DKK|                VISA|4166|Withdrawal|null|null|56.139| 9.158|2619426|         Ikast|281.15|1011| 100|   6| 240|  0.0|  75| 300|Drizzle|light intensity d...|\n",
      "|2017|January|  1|Sunday|  0|  Active|  4|            NCR|        Svogerslev|        BrÃƒÂ¸nsager|   1|4000|55.634|12.018| DKK|          MasterCard|5153|Withdrawal|null|null|55.642| 12.08|2614481|      Roskilde|280.61|1014|  87|   7| 260|  0.0|  88| 701|   Mist|                mist|\n",
      "|2017|January|  1|Sunday|  0|  Active|  5|            NCR|              Nibe|              Torvet|   1|9240|56.983| 9.639| DKK|          MasterCard|3269|Withdrawal|null|null|56.981| 9.639|2616483|          Nibe|280.64|1020|  93|   9| 250| 0.59|  92| 500|   Rain|          light rain|\n",
      "|2017|January|  1|Sunday|  0|  Active|  6|            NCR|        Fredericia|    SjÃƒÂ¦llandsgade|  33|7000|55.564| 9.757| DKK|          MasterCard| 887|Withdrawal|null|null|55.566| 9.753|2621951|    Fredericia|281.15|1014|  93|   7| 230| 0.29|  92| 500|   Rain|          light rain|\n",
      "|2017|January|  1|Sunday|  0|  Active|  7|Diebold Nixdorf|         Hjallerup|   Hjallerup Centret|  18|9320|57.168|10.148| DKK|  Mastercard - on-us|4626|Withdrawal|null|null|57.165|10.146|2620275|     Hjallerup|280.64|1020|  93|   9| 250| 0.59|  92| 500|   Rain|          light rain|\n",
      "|2017|January|  1|Sunday|  0|  Active|  8|            NCR|       GlyngÃƒÂ¸re|         FÃƒÂ¦rgevej|   1|7870|56.762| 8.867| DKK|          MasterCard| 470|Withdrawal|null|null|56.793| 8.853|2615964| Nykobing Mors|281.15|1011| 100|   6| 240|  0.0|  75| 300|Drizzle|light intensity d...|\n",
      "|2017|January|  1|Sunday|  0|  Active|  9|Diebold Nixdorf|           Hadsund|           Storegade|  12|9560|56.716|10.114| DKK|                VISA|8473|Withdrawal|null|null|56.715|10.117|2620952|       Hadsund|280.64|1020|  93|   9| 250| 0.59|  92| 500|   Rain|          light rain|\n",
      "|2017|January|  1|Sunday|  0|  Active| 10|            NCR|    NÃƒÂ¸rresundby|              Torvet|   6|9400|57.059| 9.922| DKK|             Dankort| 953|Withdrawal|null|null|57.048| 9.919|2624886|       Aalborg|280.64|1020|  93|   9| 250| 0.59|  92| 500|   Rain|          light rain|\n",
      "|2017|January|  1|Sunday|  0|  Active| 11|            NCR|         Sauersvej|Fridtjof Nansens Vej|   2|9210|57.023|  9.94| DKK|        Visa Dankort|9346|Withdrawal|null|null|57.048| 9.935|2616235|NÃƒÂ¸rresundby|280.64|1020|  93|   9| 250| 0.59|  92| 500|   Rain|          light rain|\n",
      "|2017|January|  1|Sunday|  0|Inactive|  2|            NCR|          Vejgaard|          Hadsundvej|  20|9000|57.043|  9.95| DKK|  Mastercard - on-us|3874|Withdrawal|null|null|57.048| 9.935|2616235|NÃƒÂ¸rresundby|280.64|1020|  93|   9| 250| 0.59|  92| 500|   Rain|          light rain|\n",
      "|2017|January|  1|Sunday|  0|Inactive| 12|            NCR|ÃƒËœsterÃƒÂ¥  Duus|        ÃƒËœsterÃƒÂ¥|  12|9000|57.049| 9.922| DKK|  Mastercard - on-us|1329|Withdrawal|null|null|57.048| 9.919|2624886|       Aalborg|280.64|1020|  93|   9| 250| 0.59|  92| 500|   Rain|          light rain|\n",
      "|2017|January|  1|Sunday|  0|  Active| 13|            NCR|           SÃƒÂ¦by|          Vestergade|   3|9300|57.334|10.515| DKK|  Mastercard - on-us|5024|Withdrawal|null|null|57.441|10.537|2621927| Frederikshavn|281.14|1019|  94|  12| 251|1.275|  92| 500|   Rain|          light rain|\n",
      "|2017|January|  1|Sunday|  0|Inactive| 14|            NCR|        HÃƒÂ¸rning|        NÃƒÂ¸rrealle|  12|8362|56.086|10.037| DKK|Visa Dankort - on-us|1133|Withdrawal|null|null|56.157|10.211|2624652|         Arhus|281.15|1012|  87|   5| 250|  0.0|  92| 300|Drizzle|light intensity d...|\n",
      "|2017|January|  1|Sunday|  0|  Active| 15|            NCR|            Vestre|           Kastetvej|  36|9000|57.053| 9.905| DKK|          MasterCard| 594|Withdrawal|null|null|57.048| 9.919|2624886|       Aalborg|280.64|1020|  93|   9| 250| 0.59|  92| 500|   Rain|          light rain|\n",
      "|2017|January|  1|Sunday|  0|Inactive| 12|            NCR|ÃƒËœsterÃƒÂ¥  Duus|        ÃƒËœsterÃƒÂ¥|  12|9000|57.049| 9.922| DKK|  Mastercard - on-us|9570|Withdrawal|null|null|57.048| 9.919|2624886|       Aalborg|280.64|1020|  93|   9| 250| 0.59|  92| 500|   Rain|          light rain|\n",
      "|2017|January|  1|Sunday|  0|Inactive| 16|            NCR|             Skive|            Adelgade|   8|7800|56.567| 9.027| DKK|        Visa Dankort|6068|Withdrawal|null|null|56.567| 9.033|2613731|         Skive|281.15|1012| 100|   7| 240|  0.0|  75| 300|Drizzle|light intensity d...|\n",
      "|2017|January|  1|Sunday|  0|  Active| 17|            NCR|           Randers|        ÃƒËœstervold|  16|8900|56.462|10.038| DKK|                VISA|1630|Withdrawal|null|null|56.715|10.117|2620952|       Hadsund|280.64|1020|  93|   9| 250| 0.59|  92| 500|   Rain|          light rain|\n",
      "+----+-------+---+------+---+--------+---+---------------+------------------+--------------------+----+----+------+------+----+--------------------+----+----------+----+----+------+------+-------+--------------+------+----+----+----+----+-----+----+----+-------+--------------------+\n",
      "only showing top 20 rows\n",
      "\n"
     ]
    }
   ],
   "source": [
    "df.show()"
   ]
  },
  {
   "cell_type": "markdown",
   "metadata": {},
   "source": [
    "### Creating Schema using StructType"
   ]
  },
  {
   "cell_type": "code",
   "execution_count": 8,
   "metadata": {},
   "outputs": [],
   "source": [
    "from pyspark.sql.types import StructType, StructField, IntegerType, StringType, BooleanType, DoubleType, LongType"
   ]
  },
  {
   "cell_type": "code",
   "execution_count": 9,
   "metadata": {},
   "outputs": [],
   "source": [
    "fileSchema = StructType([\n",
    "StructField('year',IntegerType(),True),\n",
    "StructField('month',StringType(),True),\n",
    "StructField('day',IntegerType(),True),\n",
    "StructField('weekday',StringType(),True),\n",
    "StructField('hour',IntegerType(),True),\n",
    "StructField('atm_status',StringType(),True),\n",
    "StructField('atm_number',StringType(),True),\n",
    "StructField('atm_manufacturer',StringType(),True),\n",
    "StructField('atm_location',StringType(),True),\n",
    "StructField('atm_streetname',StringType(),True),\n",
    "StructField('atm_street_number',IntegerType(),True),\n",
    "StructField('atm_zipcode',IntegerType(),True),\n",
    "StructField('atm_lat',DoubleType(),True),\n",
    "StructField('atm_lon',DoubleType(),True),\n",
    "StructField('currency',StringType(),True),\n",
    "StructField('card_type',StringType(),True),\n",
    "StructField('transaction_amount',IntegerType(),True),\n",
    "StructField('service',StringType(),True),\n",
    "StructField('message_code',StringType(),True),\n",
    "StructField('message_text',StringType(),True),\n",
    "StructField('weather_lat',DoubleType(),True),\n",
    "StructField('weather_lon',DoubleType(),True),\n",
    "StructField('weather_city_id',IntegerType(),True),\n",
    "StructField('weather_city_name',StringType(),True),\n",
    "StructField('temp',DoubleType(),True),\n",
    "StructField('pressure',IntegerType(),True),\n",
    "StructField('humidity',IntegerType(),True),\n",
    "StructField('wind_speed',IntegerType(),True),\n",
    "StructField('wind_deg',IntegerType(),True),\n",
    "StructField('rain_3h',DoubleType(),True),\n",
    "StructField('clouds_all',IntegerType(),True),\n",
    "StructField('weather_id',IntegerType(),True),\n",
    "StructField('weather_main',StringType(),True),\n",
    "StructField('weather_description',StringType(),True)])\n"
   ]
  },
  {
   "cell_type": "code",
   "execution_count": 10,
   "metadata": {},
   "outputs": [],
   "source": [
    "df2 = spark.read.load(\"/user/root/etl_project/part-m-00000\", format=\"csv\", sep=\",\", schema = fileSchema, header=\"false\")"
   ]
  },
  {
   "cell_type": "code",
   "execution_count": 11,
   "metadata": {},
   "outputs": [
    {
     "name": "stdout",
     "output_type": "stream",
     "text": [
      "root\n",
      " |-- year: integer (nullable = true)\n",
      " |-- month: string (nullable = true)\n",
      " |-- day: integer (nullable = true)\n",
      " |-- weekday: string (nullable = true)\n",
      " |-- hour: integer (nullable = true)\n",
      " |-- atm_status: string (nullable = true)\n",
      " |-- atm_number: string (nullable = true)\n",
      " |-- atm_manufacturer: string (nullable = true)\n",
      " |-- atm_location: string (nullable = true)\n",
      " |-- atm_streetname: string (nullable = true)\n",
      " |-- atm_street_number: integer (nullable = true)\n",
      " |-- atm_zipcode: integer (nullable = true)\n",
      " |-- atm_lat: double (nullable = true)\n",
      " |-- atm_lon: double (nullable = true)\n",
      " |-- currency: string (nullable = true)\n",
      " |-- card_type: string (nullable = true)\n",
      " |-- transaction_amount: integer (nullable = true)\n",
      " |-- service: string (nullable = true)\n",
      " |-- message_code: string (nullable = true)\n",
      " |-- message_text: string (nullable = true)\n",
      " |-- weather_lat: double (nullable = true)\n",
      " |-- weather_lon: double (nullable = true)\n",
      " |-- weather_city_id: integer (nullable = true)\n",
      " |-- weather_city_name: string (nullable = true)\n",
      " |-- temp: double (nullable = true)\n",
      " |-- pressure: integer (nullable = true)\n",
      " |-- humidity: integer (nullable = true)\n",
      " |-- wind_speed: integer (nullable = true)\n",
      " |-- wind_deg: integer (nullable = true)\n",
      " |-- rain_3h: double (nullable = true)\n",
      " |-- clouds_all: integer (nullable = true)\n",
      " |-- weather_id: integer (nullable = true)\n",
      " |-- weather_main: string (nullable = true)\n",
      " |-- weather_description: string (nullable = true)\n",
      "\n"
     ]
    }
   ],
   "source": [
    "df2.printSchema()"
   ]
  },
  {
   "cell_type": "markdown",
   "metadata": {},
   "source": [
    "#### Count of loaded data"
   ]
  },
  {
   "cell_type": "code",
   "execution_count": 12,
   "metadata": {},
   "outputs": [
    {
     "data": {
      "text/plain": [
       "2468572"
      ]
     },
     "execution_count": 12,
     "metadata": {},
     "output_type": "execute_result"
    }
   ],
   "source": [
    "df2.count()"
   ]
  },
  {
   "cell_type": "markdown",
   "metadata": {},
   "source": [
    "Count after importing data into  dataframe : 2468572"
   ]
  },
  {
   "cell_type": "markdown",
   "metadata": {},
   "source": [
    "#### ATM Data"
   ]
  },
  {
   "cell_type": "code",
   "execution_count": 13,
   "metadata": {},
   "outputs": [
    {
     "name": "stdout",
     "output_type": "stream",
     "text": [
      "+----------+----------------+\n",
      "|atm_number|atm_manufacturer|\n",
      "+----------+----------------+\n",
      "|84        |NCR             |\n",
      "|2         |NCR             |\n",
      "|4         |NCR             |\n",
      "|35        |NCR             |\n",
      "|47        |NCR             |\n",
      "|105       |Diebold Nixdorf |\n",
      "|45        |NCR             |\n",
      "|25        |Diebold Nixdorf |\n",
      "|78        |Diebold Nixdorf |\n",
      "|19        |NCR             |\n",
      "|97        |NCR             |\n",
      "|80        |NCR             |\n",
      "|31        |NCR             |\n",
      "|27        |NCR             |\n",
      "|40        |Diebold Nixdorf |\n",
      "|72        |NCR             |\n",
      "|81        |NCR             |\n",
      "|24        |NCR             |\n",
      "|38        |NCR             |\n",
      "|59        |Diebold Nixdorf |\n",
      "+----------+----------------+\n",
      "only showing top 20 rows\n",
      "\n"
     ]
    }
   ],
   "source": [
    "df2.select('atm_number','atm_manufacturer').distinct().show(truncate = False)"
   ]
  },
  {
   "cell_type": "code",
   "execution_count": 14,
   "metadata": {},
   "outputs": [
    {
     "data": {
      "text/plain": [
       "113"
      ]
     },
     "execution_count": 14,
     "metadata": {},
     "output_type": "execute_result"
    }
   ],
   "source": [
    "df2.select('atm_number','atm_manufacturer').distinct().count()"
   ]
  },
  {
   "cell_type": "markdown",
   "metadata": {},
   "source": [
    "### Creating Location Dimension Dataframe"
   ]
  },
  {
   "cell_type": "code",
   "execution_count": 15,
   "metadata": {},
   "outputs": [],
   "source": [
    "loc_dim1 = df2.select('atm_location','atm_streetname','atm_street_number','atm_zipcode','atm_lat','atm_lon').distinct()"
   ]
  },
  {
   "cell_type": "code",
   "execution_count": 16,
   "metadata": {},
   "outputs": [],
   "source": [
    "loc_dim2 = loc_dim1.select(row_number().over(Window.partitionBy().orderBy('atm_location','atm_streetname','atm_street_number','atm_zipcode','atm_lat','atm_lon')).alias('location_id'), col(\"*\"))"
   ]
  },
  {
   "cell_type": "code",
   "execution_count": 17,
   "metadata": {},
   "outputs": [
    {
     "name": "stdout",
     "output_type": "stream",
     "text": [
      "root\n",
      " |-- location_id: integer (nullable = true)\n",
      " |-- atm_location: string (nullable = true)\n",
      " |-- atm_streetname: string (nullable = true)\n",
      " |-- atm_street_number: integer (nullable = true)\n",
      " |-- atm_zipcode: integer (nullable = true)\n",
      " |-- atm_lat: double (nullable = true)\n",
      " |-- atm_lon: double (nullable = true)\n",
      "\n"
     ]
    }
   ],
   "source": [
    "loc_dim2.printSchema()"
   ]
  },
  {
   "cell_type": "code",
   "execution_count": 18,
   "metadata": {},
   "outputs": [
    {
     "data": {
      "text/plain": [
       "109"
      ]
     },
     "execution_count": 18,
     "metadata": {},
     "output_type": "execute_result"
    }
   ],
   "source": [
    "loc_dim2.count()"
   ]
  },
  {
   "cell_type": "markdown",
   "metadata": {},
   "source": [
    "Count for the Location Dimension : 109"
   ]
  },
  {
   "cell_type": "markdown",
   "metadata": {},
   "source": [
    "### Creating Date Dimension Dataframe"
   ]
  },
  {
   "cell_type": "code",
   "execution_count": 19,
   "metadata": {},
   "outputs": [],
   "source": [
    "date_dim1= df2.select('year','month','day','hour','weekday').distinct()"
   ]
  },
  {
   "cell_type": "code",
   "execution_count": 20,
   "metadata": {},
   "outputs": [],
   "source": [
    "date_dim2 = date_dim1.select(row_number().over(Window.partitionBy().orderBy('year','month','day','hour','weekday')).alias('date_id'), col(\"*\"))"
   ]
  },
  {
   "cell_type": "code",
   "execution_count": 21,
   "metadata": {},
   "outputs": [],
   "source": [
    "def month_data(x):\n",
    "    return datetime.datetime.strptime(x,\"%B\").month\n",
    "month_cnv = udf(lambda z: month_data(z), IntegerType())"
   ]
  },
  {
   "cell_type": "code",
   "execution_count": 22,
   "metadata": {},
   "outputs": [
    {
     "name": "stdout",
     "output_type": "stream",
     "text": [
      "('0', 4)\n"
     ]
    }
   ],
   "source": [
    " import datetime\n",
    "\n",
    "datetime_object= datetime.datetime.strptime(\"aPRIL\",\"%B\")\n",
    "month_number = datetime_object.month\n",
    "print('0',month_number)"
   ]
  },
  {
   "cell_type": "code",
   "execution_count": 23,
   "metadata": {},
   "outputs": [],
   "source": [
    "pattern1 = 'yyyy/MM/dd hh:mm:ss aa'\n",
    "date_dim3 = date_dim2.withColumn('full_date_time', unix_timestamp(concat(col('year'),lit('/'),date_format(col('month'),'E'),lit('/'),col('day'),lit(' '), col('hour'),lit(':00')), pattern1).cast('timestamp'))"
   ]
  },
  {
   "cell_type": "code",
   "execution_count": 24,
   "metadata": {},
   "outputs": [
    {
     "name": "stdout",
     "output_type": "stream",
     "text": [
      "root\n",
      " |-- date_id: integer (nullable = true)\n",
      " |-- year: integer (nullable = true)\n",
      " |-- month: string (nullable = true)\n",
      " |-- day: integer (nullable = true)\n",
      " |-- hour: integer (nullable = true)\n",
      " |-- weekday: string (nullable = true)\n",
      " |-- full_date_time: timestamp (nullable = true)\n",
      "\n"
     ]
    }
   ],
   "source": [
    "date_dim3.printSchema()"
   ]
  },
  {
   "cell_type": "code",
   "execution_count": 25,
   "metadata": {},
   "outputs": [],
   "source": [
    "# Convert interger values to String \n",
    "date_dim3 = date_dim2\n",
    "date_dim3 = date_dim3.withColumn('year', col('year').cast(StringType()))\n",
    "date_dim3 = date_dim3.withColumn('hour', col('hour').cast(StringType()))\n",
    "date_dim3 = date_dim3.withColumn('day', col('day').cast(StringType()))"
   ]
  },
  {
   "cell_type": "code",
   "execution_count": 26,
   "metadata": {},
   "outputs": [
    {
     "name": "stdout",
     "output_type": "stream",
     "text": [
      "+---------+\n",
      "|    month|\n",
      "+---------+\n",
      "|     July|\n",
      "| November|\n",
      "| February|\n",
      "|  January|\n",
      "|    March|\n",
      "|  October|\n",
      "|      May|\n",
      "|   August|\n",
      "|    April|\n",
      "|     June|\n",
      "| December|\n",
      "|September|\n",
      "+---------+\n",
      "\n"
     ]
    }
   ],
   "source": [
    "date_dim3.select('month').distinct().show()"
   ]
  },
  {
   "cell_type": "code",
   "execution_count": 27,
   "metadata": {},
   "outputs": [],
   "source": [
    "# Create new column with month as numerical values\n",
    "date_dim3 = date_dim3.withColumn('month_int',\n",
    "       when((col(\"month\") == 'January'), '01')\n",
    "       .when((col(\"month\") == 'February'), '02')\n",
    "       .when((col(\"month\") == 'March'), '03')\n",
    "       .when((col(\"month\") == 'April'), '04')\n",
    "       .when((col(\"month\") == 'May'), '05')\n",
    "       .when((col(\"month\") == 'June'), '06')\n",
    "       .when((col(\"month\") == 'July'), '07')\n",
    "       .when((col(\"month\") == 'August'), '08')\n",
    "       .when((col(\"month\") == 'September'), '09')\n",
    "       .when((col(\"month\") == 'October'), '10')\n",
    "       .when((col(\"month\") == 'November'), '11')\n",
    "       .otherwise(\"12\"))"
   ]
  },
  {
   "cell_type": "code",
   "execution_count": 28,
   "metadata": {},
   "outputs": [
    {
     "name": "stdout",
     "output_type": "stream",
     "text": [
      "+-------+----+-----+---+----+--------+---------+----+----+\n",
      "|date_id|year|month|day|hour| weekday|month_int|date|hhmm|\n",
      "+-------+----+-----+---+----+--------+---------+----+----+\n",
      "|      1|2017|April|  1|   0|Saturday|       04|  01|  00|\n",
      "|      2|2017|April|  1|   1|Saturday|       04|  01|  01|\n",
      "|      3|2017|April|  1|   2|Saturday|       04|  01|  02|\n",
      "|      4|2017|April|  1|   3|Saturday|       04|  01|  03|\n",
      "|      5|2017|April|  1|   4|Saturday|       04|  01|  04|\n",
      "|      6|2017|April|  1|   5|Saturday|       04|  01|  05|\n",
      "|      7|2017|April|  1|   6|Saturday|       04|  01|  06|\n",
      "|      8|2017|April|  1|   7|Saturday|       04|  01|  07|\n",
      "|      9|2017|April|  1|   8|Saturday|       04|  01|  08|\n",
      "|     10|2017|April|  1|   9|Saturday|       04|  01|  09|\n",
      "|     11|2017|April|  1|  10|Saturday|       04|  01|  10|\n",
      "|     12|2017|April|  1|  11|Saturday|       04|  01|  11|\n",
      "|     13|2017|April|  1|  12|Saturday|       04|  01|  12|\n",
      "|     14|2017|April|  1|  13|Saturday|       04|  01|  13|\n",
      "|     15|2017|April|  1|  14|Saturday|       04|  01|  14|\n",
      "|     16|2017|April|  1|  15|Saturday|       04|  01|  15|\n",
      "|     17|2017|April|  1|  16|Saturday|       04|  01|  16|\n",
      "|     18|2017|April|  1|  17|Saturday|       04|  01|  17|\n",
      "|     19|2017|April|  1|  18|Saturday|       04|  01|  18|\n",
      "|     20|2017|April|  1|  19|Saturday|       04|  01|  19|\n",
      "+-------+----+-----+---+----+--------+---------+----+----+\n",
      "only showing top 20 rows\n",
      "\n"
     ]
    }
   ],
   "source": [
    "# Appending 0 for single digit\n",
    "date_dim4 = date_dim3\n",
    "\n",
    "date_dim4 = (date_dim4.withColumn('month_int', when(length(col('month_int')) == 1, concat(lit('0'), col('month'))).otherwise(col('month_int')))\n",
    "        .withColumn('date', when(length(col('day')) == 1, concat(lit('0'), col('day'))).otherwise(col('day')))\n",
    "        .withColumn('hhmm', when(length(col('hour')) == 1, concat(lit('0'), col('hour'))).otherwise(col('hour')))\n",
    "     )\n",
    "\n",
    "date_dim4.show()"
   ]
  },
  {
   "cell_type": "code",
   "execution_count": 29,
   "metadata": {},
   "outputs": [],
   "source": [
    "# join multiple columns to create full_date_time\n",
    "date_dim4 = date_dim4.withColumn('full_date_time', \n",
    "                    concat(col('year'),lit('-'), col('month_int')))\n",
    "date_dim4 = date_dim4.withColumn('full_date_time', \n",
    "                    concat(col('full_date_time'),lit('-'), col('date')))\n",
    "date_dim4 = date_dim4.withColumn('full_date_time', \n",
    "                    concat(col('full_date_time'),lit(' '), col('hhmm')))\n",
    "date_dim4 = date_dim4.withColumn('full_date_time', \n",
    "                   concat(col('full_date_time'),lit(':00:00')))"
   ]
  },
  {
   "cell_type": "code",
   "execution_count": 30,
   "metadata": {},
   "outputs": [
    {
     "name": "stdout",
     "output_type": "stream",
     "text": [
      "+-------+----+-----+---+----+--------+---------+----+----+-------------------+\n",
      "|date_id|year|month|day|hour| weekday|month_int|date|hhmm|     full_date_time|\n",
      "+-------+----+-----+---+----+--------+---------+----+----+-------------------+\n",
      "|      1|2017|April|  1|   0|Saturday|       04|  01|  00|2017-04-01 00:00:00|\n",
      "|      2|2017|April|  1|   1|Saturday|       04|  01|  01|2017-04-01 01:00:00|\n",
      "|      3|2017|April|  1|   2|Saturday|       04|  01|  02|2017-04-01 02:00:00|\n",
      "|      4|2017|April|  1|   3|Saturday|       04|  01|  03|2017-04-01 03:00:00|\n",
      "|      5|2017|April|  1|   4|Saturday|       04|  01|  04|2017-04-01 04:00:00|\n",
      "|      6|2017|April|  1|   5|Saturday|       04|  01|  05|2017-04-01 05:00:00|\n",
      "|      7|2017|April|  1|   6|Saturday|       04|  01|  06|2017-04-01 06:00:00|\n",
      "|      8|2017|April|  1|   7|Saturday|       04|  01|  07|2017-04-01 07:00:00|\n",
      "|      9|2017|April|  1|   8|Saturday|       04|  01|  08|2017-04-01 08:00:00|\n",
      "|     10|2017|April|  1|   9|Saturday|       04|  01|  09|2017-04-01 09:00:00|\n",
      "|     11|2017|April|  1|  10|Saturday|       04|  01|  10|2017-04-01 10:00:00|\n",
      "|     12|2017|April|  1|  11|Saturday|       04|  01|  11|2017-04-01 11:00:00|\n",
      "|     13|2017|April|  1|  12|Saturday|       04|  01|  12|2017-04-01 12:00:00|\n",
      "|     14|2017|April|  1|  13|Saturday|       04|  01|  13|2017-04-01 13:00:00|\n",
      "|     15|2017|April|  1|  14|Saturday|       04|  01|  14|2017-04-01 14:00:00|\n",
      "|     16|2017|April|  1|  15|Saturday|       04|  01|  15|2017-04-01 15:00:00|\n",
      "|     17|2017|April|  1|  16|Saturday|       04|  01|  16|2017-04-01 16:00:00|\n",
      "|     18|2017|April|  1|  17|Saturday|       04|  01|  17|2017-04-01 17:00:00|\n",
      "|     19|2017|April|  1|  18|Saturday|       04|  01|  18|2017-04-01 18:00:00|\n",
      "|     20|2017|April|  1|  19|Saturday|       04|  01|  19|2017-04-01 19:00:00|\n",
      "+-------+----+-----+---+----+--------+---------+----+----+-------------------+\n",
      "only showing top 20 rows\n",
      "\n"
     ]
    }
   ],
   "source": [
    "date_dim4.show()"
   ]
  },
  {
   "cell_type": "code",
   "execution_count": 31,
   "metadata": {},
   "outputs": [],
   "source": [
    "date_dim4 = date_dim4.select('date_id','full_date_time')\n",
    "date_dim2 = date_dim2.join(date_dim4,on=['date_id'],how = 'left')"
   ]
  },
  {
   "cell_type": "code",
   "execution_count": 32,
   "metadata": {},
   "outputs": [
    {
     "name": "stdout",
     "output_type": "stream",
     "text": [
      "+-------+----+-----+---+----+--------+-------------------+\n",
      "|date_id|year|month|day|hour| weekday|     full_date_time|\n",
      "+-------+----+-----+---+----+--------+-------------------+\n",
      "|      1|2017|April|  1|   0|Saturday|2017-04-01 00:00:00|\n",
      "|      2|2017|April|  1|   1|Saturday|2017-04-01 01:00:00|\n",
      "|      3|2017|April|  1|   2|Saturday|2017-04-01 02:00:00|\n",
      "|      4|2017|April|  1|   3|Saturday|2017-04-01 03:00:00|\n",
      "|      5|2017|April|  1|   4|Saturday|2017-04-01 04:00:00|\n",
      "|      6|2017|April|  1|   5|Saturday|2017-04-01 05:00:00|\n",
      "|      7|2017|April|  1|   6|Saturday|2017-04-01 06:00:00|\n",
      "|      8|2017|April|  1|   7|Saturday|2017-04-01 07:00:00|\n",
      "|      9|2017|April|  1|   8|Saturday|2017-04-01 08:00:00|\n",
      "|     10|2017|April|  1|   9|Saturday|2017-04-01 09:00:00|\n",
      "|     11|2017|April|  1|  10|Saturday|2017-04-01 10:00:00|\n",
      "|     12|2017|April|  1|  11|Saturday|2017-04-01 11:00:00|\n",
      "|     13|2017|April|  1|  12|Saturday|2017-04-01 12:00:00|\n",
      "|     14|2017|April|  1|  13|Saturday|2017-04-01 13:00:00|\n",
      "|     15|2017|April|  1|  14|Saturday|2017-04-01 14:00:00|\n",
      "|     16|2017|April|  1|  15|Saturday|2017-04-01 15:00:00|\n",
      "|     17|2017|April|  1|  16|Saturday|2017-04-01 16:00:00|\n",
      "|     18|2017|April|  1|  17|Saturday|2017-04-01 17:00:00|\n",
      "|     19|2017|April|  1|  18|Saturday|2017-04-01 18:00:00|\n",
      "|     20|2017|April|  1|  19|Saturday|2017-04-01 19:00:00|\n",
      "+-------+----+-----+---+----+--------+-------------------+\n",
      "only showing top 20 rows\n",
      "\n"
     ]
    }
   ],
   "source": [
    "date_dim2.show()"
   ]
  },
  {
   "cell_type": "code",
   "execution_count": 33,
   "metadata": {},
   "outputs": [
    {
     "name": "stdout",
     "output_type": "stream",
     "text": [
      "root\n",
      " |-- date_id: integer (nullable = true)\n",
      " |-- year: integer (nullable = true)\n",
      " |-- month: string (nullable = true)\n",
      " |-- day: integer (nullable = true)\n",
      " |-- hour: integer (nullable = true)\n",
      " |-- weekday: string (nullable = true)\n",
      " |-- full_date_time: string (nullable = true)\n",
      "\n"
     ]
    }
   ],
   "source": [
    "date_dim2.printSchema()"
   ]
  },
  {
   "cell_type": "code",
   "execution_count": 34,
   "metadata": {},
   "outputs": [],
   "source": [
    "# Rearranging fields\n",
    "date_dim2 = date_dim2.select('date_id','full_date_time','year','month','day','hour','weekday')"
   ]
  },
  {
   "cell_type": "code",
   "execution_count": 35,
   "metadata": {},
   "outputs": [
    {
     "name": "stdout",
     "output_type": "stream",
     "text": [
      "root\n",
      " |-- date_id: integer (nullable = true)\n",
      " |-- full_date_time: string (nullable = true)\n",
      " |-- year: integer (nullable = true)\n",
      " |-- month: string (nullable = true)\n",
      " |-- day: integer (nullable = true)\n",
      " |-- hour: integer (nullable = true)\n",
      " |-- weekday: string (nullable = true)\n",
      "\n"
     ]
    }
   ],
   "source": [
    "date_dim2.printSchema()"
   ]
  },
  {
   "cell_type": "code",
   "execution_count": 36,
   "metadata": {},
   "outputs": [
    {
     "data": {
      "text/plain": [
       "8685"
      ]
     },
     "execution_count": 36,
     "metadata": {},
     "output_type": "execute_result"
    }
   ],
   "source": [
    "date_dim2.count()"
   ]
  },
  {
   "cell_type": "markdown",
   "metadata": {},
   "source": [
    "### Count for the Date Dimension : 8685"
   ]
  },
  {
   "cell_type": "markdown",
   "metadata": {},
   "source": [
    "### Creating Card Type Dimension Dataframe"
   ]
  },
  {
   "cell_type": "code",
   "execution_count": 37,
   "metadata": {},
   "outputs": [],
   "source": [
    "card_dim1 = df2.select('card_type').distinct()"
   ]
  },
  {
   "cell_type": "code",
   "execution_count": 38,
   "metadata": {},
   "outputs": [],
   "source": [
    "card_dim2 = card_dim1.select(row_number().over(Window.partitionBy().orderBy('card_type')).alias('card_type_id'), col(\"*\"))"
   ]
  },
  {
   "cell_type": "code",
   "execution_count": 39,
   "metadata": {},
   "outputs": [
    {
     "name": "stdout",
     "output_type": "stream",
     "text": [
      "root\n",
      " |-- card_type_id: integer (nullable = true)\n",
      " |-- card_type: string (nullable = true)\n",
      "\n"
     ]
    }
   ],
   "source": [
    "card_dim2.printSchema()"
   ]
  },
  {
   "cell_type": "code",
   "execution_count": 40,
   "metadata": {},
   "outputs": [
    {
     "data": {
      "text/plain": [
       "12"
      ]
     },
     "execution_count": 40,
     "metadata": {},
     "output_type": "execute_result"
    }
   ],
   "source": [
    "card_dim2.count()"
   ]
  },
  {
   "cell_type": "markdown",
   "metadata": {},
   "source": [
    "### Count for the Card Type Dimension : 12"
   ]
  },
  {
   "cell_type": "markdown",
   "metadata": {},
   "source": [
    "### Creating Atm Dimension Dataframe"
   ]
  },
  {
   "cell_type": "code",
   "execution_count": 41,
   "metadata": {},
   "outputs": [],
   "source": [
    "\n",
    "atm_dim1 = df2.select('atm_number','atm_manufacturer','atm_lat','atm_lon').distinct()"
   ]
  },
  {
   "cell_type": "code",
   "execution_count": 42,
   "metadata": {},
   "outputs": [],
   "source": [
    "atm_dim2 = atm_dim1.join(loc_dim2,on =['atm_lat','atm_lon'], how ='left'  )"
   ]
  },
  {
   "cell_type": "code",
   "execution_count": 43,
   "metadata": {},
   "outputs": [
    {
     "name": "stdout",
     "output_type": "stream",
     "text": [
      "+-------+-------+----------+----------------+-----------+------------+-------------------+-----------------+-----------+\n",
      "|atm_lat|atm_lon|atm_number|atm_manufacturer|location_id|atm_location|     atm_streetname|atm_street_number|atm_zipcode|\n",
      "+-------+-------+----------+----------------+-----------+------------+-------------------+-----------------+-----------+\n",
      "| 57.005|  9.881|       109| Diebold Nixdorf|          5| Aalborg Syd|           Hobrovej|              440|       9200|\n",
      "| 56.139|  9.154|         3|             NCR|         48|       Ikast|RÃƒÂ¥dhusstrÃƒÂ¦det|               12|       7430|\n",
      "+-------+-------+----------+----------------+-----------+------------+-------------------+-----------------+-----------+\n",
      "only showing top 2 rows\n",
      "\n"
     ]
    }
   ],
   "source": [
    "atm_dim2.show(2)"
   ]
  },
  {
   "cell_type": "code",
   "execution_count": 44,
   "metadata": {},
   "outputs": [
    {
     "name": "stdout",
     "output_type": "stream",
     "text": [
      "root\n",
      " |-- atm_lat: double (nullable = true)\n",
      " |-- atm_lon: double (nullable = true)\n",
      " |-- atm_number: string (nullable = true)\n",
      " |-- atm_manufacturer: string (nullable = true)\n",
      " |-- location_id: integer (nullable = true)\n",
      " |-- atm_location: string (nullable = true)\n",
      " |-- atm_streetname: string (nullable = true)\n",
      " |-- atm_street_number: integer (nullable = true)\n",
      " |-- atm_zipcode: integer (nullable = true)\n",
      "\n"
     ]
    }
   ],
   "source": [
    "atm_dim2.printSchema()"
   ]
  },
  {
   "cell_type": "code",
   "execution_count": 45,
   "metadata": {},
   "outputs": [],
   "source": [
    "atm_dim3 = atm_dim2.select(row_number().over(Window.partitionBy().orderBy('atm_number','atm_manufacturer','atm_lat','atm_lon')).alias('atm_id'), col(\"atm_number\"),col('atm_manufacturer'),col('location_id'))"
   ]
  },
  {
   "cell_type": "code",
   "execution_count": 46,
   "metadata": {},
   "outputs": [
    {
     "name": "stdout",
     "output_type": "stream",
     "text": [
      "root\n",
      " |-- atm_id: integer (nullable = true)\n",
      " |-- atm_number: string (nullable = true)\n",
      " |-- atm_manufacturer: string (nullable = true)\n",
      " |-- location_id: integer (nullable = true)\n",
      "\n"
     ]
    }
   ],
   "source": [
    "atm_dim3.printSchema()"
   ]
  },
  {
   "cell_type": "code",
   "execution_count": 47,
   "metadata": {},
   "outputs": [
    {
     "data": {
      "text/plain": [
       "156"
      ]
     },
     "execution_count": 47,
     "metadata": {},
     "output_type": "execute_result"
    }
   ],
   "source": [
    "atm_dim3.count()"
   ]
  },
  {
   "cell_type": "markdown",
   "metadata": {},
   "source": [
    "### Count for the ATM Dimension : 156"
   ]
  },
  {
   "cell_type": "markdown",
   "metadata": {},
   "source": [
    "### ATM Fact Dataframe"
   ]
  },
  {
   "cell_type": "markdown",
   "metadata": {},
   "source": [
    "Joining Card Dimension table"
   ]
  },
  {
   "cell_type": "code",
   "execution_count": 48,
   "metadata": {},
   "outputs": [],
   "source": [
    "df_final_card = df2.join(card_dim2,on = ['card_type'] ,how ='left')"
   ]
  },
  {
   "cell_type": "code",
   "execution_count": 49,
   "metadata": {},
   "outputs": [
    {
     "name": "stdout",
     "output_type": "stream",
     "text": [
      "root\n",
      " |-- card_type: string (nullable = true)\n",
      " |-- year: integer (nullable = true)\n",
      " |-- month: string (nullable = true)\n",
      " |-- day: integer (nullable = true)\n",
      " |-- weekday: string (nullable = true)\n",
      " |-- hour: integer (nullable = true)\n",
      " |-- atm_status: string (nullable = true)\n",
      " |-- atm_number: string (nullable = true)\n",
      " |-- atm_manufacturer: string (nullable = true)\n",
      " |-- atm_location: string (nullable = true)\n",
      " |-- atm_streetname: string (nullable = true)\n",
      " |-- atm_street_number: integer (nullable = true)\n",
      " |-- atm_zipcode: integer (nullable = true)\n",
      " |-- atm_lat: double (nullable = true)\n",
      " |-- atm_lon: double (nullable = true)\n",
      " |-- currency: string (nullable = true)\n",
      " |-- transaction_amount: integer (nullable = true)\n",
      " |-- service: string (nullable = true)\n",
      " |-- message_code: string (nullable = true)\n",
      " |-- message_text: string (nullable = true)\n",
      " |-- weather_lat: double (nullable = true)\n",
      " |-- weather_lon: double (nullable = true)\n",
      " |-- weather_city_id: integer (nullable = true)\n",
      " |-- weather_city_name: string (nullable = true)\n",
      " |-- temp: double (nullable = true)\n",
      " |-- pressure: integer (nullable = true)\n",
      " |-- humidity: integer (nullable = true)\n",
      " |-- wind_speed: integer (nullable = true)\n",
      " |-- wind_deg: integer (nullable = true)\n",
      " |-- rain_3h: double (nullable = true)\n",
      " |-- clouds_all: integer (nullable = true)\n",
      " |-- weather_id: integer (nullable = true)\n",
      " |-- weather_main: string (nullable = true)\n",
      " |-- weather_description: string (nullable = true)\n",
      " |-- card_type_id: integer (nullable = true)\n",
      "\n"
     ]
    }
   ],
   "source": [
    "df_final_card.printSchema()"
   ]
  },
  {
   "cell_type": "code",
   "execution_count": 50,
   "metadata": {},
   "outputs": [
    {
     "data": {
      "text/plain": [
       "2468572"
      ]
     },
     "execution_count": 50,
     "metadata": {},
     "output_type": "execute_result"
    }
   ],
   "source": [
    "df_final_card.count()"
   ]
  },
  {
   "cell_type": "markdown",
   "metadata": {},
   "source": [
    "Joining card Dimension table"
   ]
  },
  {
   "cell_type": "code",
   "execution_count": 51,
   "metadata": {},
   "outputs": [],
   "source": [
    "df_final_card = df2.join(card_dim2,on = ['card_type'] ,how ='left')"
   ]
  },
  {
   "cell_type": "code",
   "execution_count": 52,
   "metadata": {},
   "outputs": [
    {
     "data": {
      "text/plain": [
       "2468572"
      ]
     },
     "execution_count": 52,
     "metadata": {},
     "output_type": "execute_result"
    }
   ],
   "source": [
    "df_final_card.count()"
   ]
  },
  {
   "cell_type": "markdown",
   "metadata": {},
   "source": [
    "Joining location Dimension table"
   ]
  },
  {
   "cell_type": "code",
   "execution_count": 53,
   "metadata": {},
   "outputs": [],
   "source": [
    "df_final_loc = df_final_card.join(loc_dim2,on = ['atm_location','atm_streetname','atm_street_number','atm_zipcode','atm_lat','atm_lon'] ,how ='left')"
   ]
  },
  {
   "cell_type": "code",
   "execution_count": 54,
   "metadata": {},
   "outputs": [
    {
     "data": {
      "text/plain": [
       "2468572"
      ]
     },
     "execution_count": 54,
     "metadata": {},
     "output_type": "execute_result"
    }
   ],
   "source": [
    "df_final_loc.count()"
   ]
  },
  {
   "cell_type": "code",
   "execution_count": 55,
   "metadata": {},
   "outputs": [
    {
     "name": "stdout",
     "output_type": "stream",
     "text": [
      "root\n",
      " |-- atm_location: string (nullable = true)\n",
      " |-- atm_streetname: string (nullable = true)\n",
      " |-- atm_street_number: integer (nullable = true)\n",
      " |-- atm_zipcode: integer (nullable = true)\n",
      " |-- atm_lat: double (nullable = true)\n",
      " |-- atm_lon: double (nullable = true)\n",
      " |-- card_type: string (nullable = true)\n",
      " |-- year: integer (nullable = true)\n",
      " |-- month: string (nullable = true)\n",
      " |-- day: integer (nullable = true)\n",
      " |-- weekday: string (nullable = true)\n",
      " |-- hour: integer (nullable = true)\n",
      " |-- atm_status: string (nullable = true)\n",
      " |-- atm_number: string (nullable = true)\n",
      " |-- atm_manufacturer: string (nullable = true)\n",
      " |-- currency: string (nullable = true)\n",
      " |-- transaction_amount: integer (nullable = true)\n",
      " |-- service: string (nullable = true)\n",
      " |-- message_code: string (nullable = true)\n",
      " |-- message_text: string (nullable = true)\n",
      " |-- weather_lat: double (nullable = true)\n",
      " |-- weather_lon: double (nullable = true)\n",
      " |-- weather_city_id: integer (nullable = true)\n",
      " |-- weather_city_name: string (nullable = true)\n",
      " |-- temp: double (nullable = true)\n",
      " |-- pressure: integer (nullable = true)\n",
      " |-- humidity: integer (nullable = true)\n",
      " |-- wind_speed: integer (nullable = true)\n",
      " |-- wind_deg: integer (nullable = true)\n",
      " |-- rain_3h: double (nullable = true)\n",
      " |-- clouds_all: integer (nullable = true)\n",
      " |-- weather_id: integer (nullable = true)\n",
      " |-- weather_main: string (nullable = true)\n",
      " |-- weather_description: string (nullable = true)\n",
      " |-- card_type_id: integer (nullable = true)\n",
      " |-- location_id: integer (nullable = true)\n",
      "\n"
     ]
    }
   ],
   "source": [
    "df_final_loc.printSchema()"
   ]
  },
  {
   "cell_type": "markdown",
   "metadata": {},
   "source": [
    "Joining date Dimension table"
   ]
  },
  {
   "cell_type": "code",
   "execution_count": 56,
   "metadata": {},
   "outputs": [],
   "source": [
    "df_final_date = df_final_loc.join(date_dim2,on = ['year','month','day','hour','weekday'] ,how ='left')"
   ]
  },
  {
   "cell_type": "code",
   "execution_count": 57,
   "metadata": {},
   "outputs": [
    {
     "data": {
      "text/plain": [
       "2468572"
      ]
     },
     "execution_count": 57,
     "metadata": {},
     "output_type": "execute_result"
    }
   ],
   "source": [
    "df_final_date.count()"
   ]
  },
  {
   "cell_type": "code",
   "execution_count": 58,
   "metadata": {},
   "outputs": [
    {
     "name": "stdout",
     "output_type": "stream",
     "text": [
      "root\n",
      " |-- year: integer (nullable = true)\n",
      " |-- month: string (nullable = true)\n",
      " |-- day: integer (nullable = true)\n",
      " |-- hour: integer (nullable = true)\n",
      " |-- weekday: string (nullable = true)\n",
      " |-- atm_location: string (nullable = true)\n",
      " |-- atm_streetname: string (nullable = true)\n",
      " |-- atm_street_number: integer (nullable = true)\n",
      " |-- atm_zipcode: integer (nullable = true)\n",
      " |-- atm_lat: double (nullable = true)\n",
      " |-- atm_lon: double (nullable = true)\n",
      " |-- card_type: string (nullable = true)\n",
      " |-- atm_status: string (nullable = true)\n",
      " |-- atm_number: string (nullable = true)\n",
      " |-- atm_manufacturer: string (nullable = true)\n",
      " |-- currency: string (nullable = true)\n",
      " |-- transaction_amount: integer (nullable = true)\n",
      " |-- service: string (nullable = true)\n",
      " |-- message_code: string (nullable = true)\n",
      " |-- message_text: string (nullable = true)\n",
      " |-- weather_lat: double (nullable = true)\n",
      " |-- weather_lon: double (nullable = true)\n",
      " |-- weather_city_id: integer (nullable = true)\n",
      " |-- weather_city_name: string (nullable = true)\n",
      " |-- temp: double (nullable = true)\n",
      " |-- pressure: integer (nullable = true)\n",
      " |-- humidity: integer (nullable = true)\n",
      " |-- wind_speed: integer (nullable = true)\n",
      " |-- wind_deg: integer (nullable = true)\n",
      " |-- rain_3h: double (nullable = true)\n",
      " |-- clouds_all: integer (nullable = true)\n",
      " |-- weather_id: integer (nullable = true)\n",
      " |-- weather_main: string (nullable = true)\n",
      " |-- weather_description: string (nullable = true)\n",
      " |-- card_type_id: integer (nullable = true)\n",
      " |-- location_id: integer (nullable = true)\n",
      " |-- date_id: integer (nullable = true)\n",
      " |-- full_date_time: string (nullable = true)\n",
      "\n"
     ]
    }
   ],
   "source": [
    "df_final_date.printSchema()"
   ]
  },
  {
   "cell_type": "markdown",
   "metadata": {},
   "source": [
    "Joining Atm dimension table"
   ]
  },
  {
   "cell_type": "code",
   "execution_count": 59,
   "metadata": {},
   "outputs": [],
   "source": [
    "df_final_atm = df_final_date.join(atm_dim3, on =['atm_number','atm_manufacturer','location_id'] ,how ='left')"
   ]
  },
  {
   "cell_type": "code",
   "execution_count": 60,
   "metadata": {},
   "outputs": [
    {
     "data": {
      "text/plain": [
       "2468572"
      ]
     },
     "execution_count": 60,
     "metadata": {},
     "output_type": "execute_result"
    }
   ],
   "source": [
    "df_final_atm.count()"
   ]
  },
  {
   "cell_type": "markdown",
   "metadata": {},
   "source": [
    "### Creating Final Fact table "
   ]
  },
  {
   "cell_type": "code",
   "execution_count": 61,
   "metadata": {},
   "outputs": [],
   "source": [
    "df_final = df_final_atm.select( \n",
    "'atm_id',\n",
    "'location_id',\n",
    "'date_id', \n",
    "'card_type_id',\n",
    "'atm_status',\t\t\t\n",
    "'currency',\t\t\n",
    "'service',\t\t\t\n",
    "'transaction_amount',\t\n",
    "'message_code',\t\t\n",
    "'message_text',\t\t\n",
    "'rain_3h',\t\t\t\t\n",
    "'clouds_all',\t\t\t\n",
    "'weather_id',\t\t\t\n",
    "'weather_main',\t\t\n",
    "'weather_description')"
   ]
  },
  {
   "cell_type": "code",
   "execution_count": 62,
   "metadata": {},
   "outputs": [],
   "source": [
    "## Adding primary key trans_id\n",
    "\n",
    "df_final1 = df_final.select(row_number().over(Window.partitionBy().orderBy('atm_id',\n",
    "'location_id',\n",
    "'date_id', \n",
    "'card_type_id',\n",
    "'atm_status',\t\t\t\n",
    "'currency',\t\t\n",
    "'service',\t\t\t\n",
    "'transaction_amount',\t\n",
    "'message_code',\t\t\n",
    "'message_text',\t\t\n",
    "'rain_3h',\t\t\t\t\n",
    "'clouds_all',\t\t\t\n",
    "'weather_id',\t\t\t\n",
    "'weather_main',\t\t\n",
    "'weather_description')).alias('trans_id'), col(\"*\"))"
   ]
  },
  {
   "cell_type": "code",
   "execution_count": 64,
   "metadata": {},
   "outputs": [
    {
     "name": "stdout",
     "output_type": "stream",
     "text": [
      "root\n",
      " |-- year: integer (nullable = true)\n",
      " |-- month: string (nullable = true)\n",
      " |-- day: integer (nullable = true)\n",
      " |-- hour: integer (nullable = true)\n",
      " |-- weekday: string (nullable = true)\n",
      " |-- atm_location: string (nullable = true)\n",
      " |-- atm_streetname: string (nullable = true)\n",
      " |-- atm_street_number: integer (nullable = true)\n",
      " |-- atm_zipcode: integer (nullable = true)\n",
      " |-- atm_lat: double (nullable = true)\n",
      " |-- atm_lon: double (nullable = true)\n",
      " |-- card_type: string (nullable = true)\n",
      " |-- atm_status: string (nullable = true)\n",
      " |-- atm_number: string (nullable = true)\n",
      " |-- atm_manufacturer: string (nullable = true)\n",
      " |-- currency: string (nullable = true)\n",
      " |-- transaction_amount: integer (nullable = true)\n",
      " |-- service: string (nullable = true)\n",
      " |-- message_code: string (nullable = true)\n",
      " |-- message_text: string (nullable = true)\n",
      " |-- weather_lat: double (nullable = true)\n",
      " |-- weather_lon: double (nullable = true)\n",
      " |-- weather_city_id: integer (nullable = true)\n",
      " |-- weather_city_name: string (nullable = true)\n",
      " |-- temp: double (nullable = true)\n",
      " |-- pressure: integer (nullable = true)\n",
      " |-- humidity: integer (nullable = true)\n",
      " |-- wind_speed: integer (nullable = true)\n",
      " |-- wind_deg: integer (nullable = true)\n",
      " |-- rain_3h: double (nullable = true)\n",
      " |-- clouds_all: integer (nullable = true)\n",
      " |-- weather_id: integer (nullable = true)\n",
      " |-- weather_main: string (nullable = true)\n",
      " |-- weather_description: string (nullable = true)\n",
      " |-- card_type_id: integer (nullable = true)\n",
      " |-- location_id: integer (nullable = true)\n",
      " |-- date_id: integer (nullable = true)\n",
      " |-- full_date_time: string (nullable = true)\n",
      "\n"
     ]
    }
   ],
   "source": [
    "df_final_date.printSchema()"
   ]
  },
  {
   "cell_type": "code",
   "execution_count": 63,
   "metadata": {},
   "outputs": [
    {
     "data": {
      "text/plain": [
       "2468572"
      ]
     },
     "execution_count": 63,
     "metadata": {},
     "output_type": "execute_result"
    }
   ],
   "source": [
    "df_final1.count()"
   ]
  },
  {
   "cell_type": "markdown",
   "metadata": {},
   "source": [
    "### Count of Records in each stage - 2468572"
   ]
  },
  {
   "cell_type": "markdown",
   "metadata": {},
   "source": [
    "### Loading the data back to S3"
   ]
  },
  {
   "cell_type": "code",
   "execution_count": 67,
   "metadata": {},
   "outputs": [],
   "source": [
    "loc_dim2.write.csv(\"DIM_LOCATION.csv\") "
   ]
  },
  {
   "cell_type": "code",
   "execution_count": 68,
   "metadata": {},
   "outputs": [],
   "source": [
    "card_dim2.write.csv(\"DIM_CARD_TYPE.csv\") "
   ]
  },
  {
   "cell_type": "code",
   "execution_count": 69,
   "metadata": {},
   "outputs": [],
   "source": [
    "atm_dim3.write.csv(\"DIM_ATM.csv\") "
   ]
  },
  {
   "cell_type": "code",
   "execution_count": 70,
   "metadata": {},
   "outputs": [],
   "source": [
    "date_dim2.write.csv(\"DIM_DATE.csv\")"
   ]
  },
  {
   "cell_type": "code",
   "execution_count": 71,
   "metadata": {},
   "outputs": [],
   "source": [
    "df_final1.write.csv(\"FACT_ATM_TRANS.csv\")"
   ]
  },
  {
   "attachments": {
    "image.png": {
     "image/png": "[encoded data removed]"
    }
   },
   "cell_type": "markdown",
   "metadata": {},
   "source": [
    "Moved the data to HDFS(/user/root) and then to S3\n",
    "\n",
    "\n",
    "![image.png](attachment:image.png)\n",
    "\n"
   ]
  }
 ],
 "metadata": {
  "kernelspec": {
   "display_name": "Python 3",
   "language": "python",
   "name": "python3"
  },
  "language_info": {
   "codemirror_mode": {
    "name": "ipython",
    "version": 3
   },
   "file_extension": ".py",
   "mimetype": "text/x-python",
   "name": "python",
   "nbconvert_exporter": "python",
   "pygments_lexer": "ipython3",
   "version": "3.7.4"
  }
 },
 "nbformat": 4,
 "nbformat_minor": 2
}
